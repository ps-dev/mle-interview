{
 "cells": [
  {
   "cell_type": "code",
   "execution_count": 2,
   "metadata": {},
   "outputs": [],
   "source": [
    "import pandas as pd"
   ]
  },
  {
   "cell_type": "code",
   "execution_count": 14,
   "metadata": {},
   "outputs": [],
   "source": [
    "data = pd.read_csv('user_interactions.csv')"
   ]
  },
  {
   "cell_type": "code",
   "execution_count": 17,
   "metadata": {},
   "outputs": [],
   "source": [
    "users = ['e337a675-46f5-437e-aa72-5d43643b5461',\n",
    " '316ab644-0160-4df2-83e7-989ef2abb20b',\n",
    " 'a87ca0fa-682e-48c9-a238-82f6a9fc245f',\n",
    " 'ec4670c5-93a8-45ce-b721-97eb483d8cd5',\n",
    " '970e77e7-43a9-4be8-9771-5fb7ca372018',\n",
    " '7d00883e-c257-4bc1-af43-42aeddff7016',\n",
    " 'd2724259-cd47-42d7-8661-00bad58ae5cb',\n",
    " '3c6d94c9-8526-4be4-8b5b-fc282a98c550',\n",
    " 'd42f3ff0-770e-47ab-b446-40ad9706a54e',\n",
    " '921dfe9e-a657-4acf-adcc-087a57cce6c6',\n",
    " 'ed53b93e-ca43-4cb0-8402-a2526f08e820',\n",
    " '111d4f89-c244-4da2-a597-ee46bb923406',\n",
    " '2f7123cd-ab26-4093-83f6-1424d4d2aab3',\n",
    " '62f44060-4fa9-445e-8f02-d9740b9c4330',\n",
    " '66158806-4bca-4429-9524-1bd4d407c3d1',\n",
    " '976c4b61-6aa7-4370-b324-f386fb2ba04e',\n",
    " '4f3f1098-4f69-49fd-8b76-81cfbe974a6d',\n",
    " '01095d2c-9d46-4974-8bc9-d9f11a633cc5',\n",
    " '6a64ba96-eabf-47c9-9f5f-f014ba540e32',\n",
    " 'f0b40f83-5e37-4446-bdc0-c2afeee6a01c']"
   ]
  },
  {
   "cell_type": "code",
   "execution_count": 26,
   "metadata": {},
   "outputs": [],
   "source": [
    "df_filtered = data[data['USER_HANDLE'].isin(data['USER_HANDLE'].unique())]"
   ]
  },
  {
   "cell_type": "code",
   "execution_count": 25,
   "metadata": {},
   "outputs": [],
   "source": [
    "df_filtered[['USER_HANDLE','CONTENT_TITLES_JOINED']].set_index('USER_HANDLE').to_csv('content_activity.csv')"
   ]
  },
  {
   "cell_type": "code",
   "execution_count": null,
   "metadata": {},
   "outputs": [],
   "source": []
  }
 ],
 "metadata": {
  "kernelspec": {
   "display_name": "Python 3",
   "language": "python",
   "name": "python3"
  },
  "language_info": {
   "codemirror_mode": {
    "name": "ipython",
    "version": 3
   },
   "file_extension": ".py",
   "mimetype": "text/x-python",
   "name": "python",
   "nbconvert_exporter": "python",
   "pygments_lexer": "ipython3",
   "version": "3.10.13"
  }
 },
 "nbformat": 4,
 "nbformat_minor": 2
}
